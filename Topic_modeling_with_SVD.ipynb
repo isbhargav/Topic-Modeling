{
  "nbformat": 4,
  "nbformat_minor": 0,
  "metadata": {
    "colab": {
      "name": "Topic modeling with SVD.ipynb",
      "provenance": [],
      "authorship_tag": "ABX9TyOZZYYyMAQ0zLesK0A/wnAN",
      "include_colab_link": true
    },
    "kernelspec": {
      "name": "python3",
      "display_name": "Python 3"
    }
  },
  "cells": [
    {
      "cell_type": "markdown",
      "metadata": {
        "id": "view-in-github",
        "colab_type": "text"
      },
      "source": [
        "<a href=\"https://colab.research.google.com/github/isbhargav/Topic-Modeling/blob/master/Topic_modeling_with_SVD.ipynb\" target=\"_parent\"><img src=\"https://colab.research.google.com/assets/colab-badge.svg\" alt=\"Open In Colab\"/></a>"
      ]
    },
    {
      "cell_type": "code",
      "metadata": {
        "id": "bANkUeqnR3qr",
        "colab_type": "code",
        "colab": {}
      },
      "source": [
        "import numpy as np\n",
        "from sklearn import decomposition\n",
        "from sklearn.datasets import fetch_20newsgroups\n",
        "from scipy import linalg"
      ],
      "execution_count": 0,
      "outputs": []
    },
    {
      "cell_type": "code",
      "metadata": {
        "id": "xEdNV1frTKbN",
        "colab_type": "code",
        "colab": {}
      },
      "source": [
        "categories = [\n",
        "    'misc.forsale',\n",
        "    'soc.religion.christian',\n",
        "    'sci.space',\n",
        "    'talk.politics.misc'\n",
        "]"
      ],
      "execution_count": 0,
      "outputs": []
    },
    {
      "cell_type": "code",
      "metadata": {
        "id": "c9I2vQi1SqON",
        "colab_type": "code",
        "colab": {
          "base_uri": "https://localhost:8080/",
          "height": 51
        },
        "outputId": "a3721fb0-9ba1-4789-a1ab-a35def578109"
      },
      "source": [
        "train_dataset = fetch_20newsgroups(subset='train',shuffle=True, random_state=1, remove=('headers', 'footers', 'quotes'),categories=categories)\n",
        "test_dataset = fetch_20newsgroups(subset='test',shuffle=True, random_state=1, remove=('headers', 'footers', 'quotes'),categories=categories)"
      ],
      "execution_count": 3,
      "outputs": [
        {
          "output_type": "stream",
          "text": [
            "Downloading 20news dataset. This may take a few minutes.\n",
            "Downloading dataset from https://ndownloader.figshare.com/files/5975967 (14 MB)\n"
          ],
          "name": "stderr"
        }
      ]
    },
    {
      "cell_type": "code",
      "metadata": {
        "id": "zPPmnTWuTmAc",
        "colab_type": "code",
        "colab": {
          "base_uri": "https://localhost:8080/",
          "height": 54
        },
        "outputId": "39f3fd47-2561-42ea-d134-a6ff54a47d2e"
      },
      "source": [
        "train_dataset.data[0]"
      ],
      "execution_count": 7,
      "outputs": [
        {
          "output_type": "execute_result",
          "data": {
            "text/plain": [
              "\"\\nLets hear it for Dan Goldin...now if he can only convince the rest of\\nour federal government that the space program is a worth while\\ninvestment!\\n\\nI hope that I will live to see the day we walk on Mars, but\\nwe need to address the technical hurdles first!  If there's sufficient\\ninterest, maybe we should consider starting a sci.space group \\ndevoted to the technical analysis of long-duration human spaceflight.\\nMost of you regulars know that I'm interested in starting this analysis\\nas soon as possible.\""
            ]
          },
          "metadata": {
            "tags": []
          },
          "execution_count": 7
        }
      ]
    },
    {
      "cell_type": "code",
      "metadata": {
        "id": "cZegLTd3TrWy",
        "colab_type": "code",
        "colab": {
          "base_uri": "https://localhost:8080/",
          "height": 34
        },
        "outputId": "541e77dd-5843-4e2b-f1cd-99fc71c029c6"
      },
      "source": [
        "train_dataset.target[0],train_dataset.target_names[train_dataset.target[0]]"
      ],
      "execution_count": 8,
      "outputs": [
        {
          "output_type": "execute_result",
          "data": {
            "text/plain": [
              "(1, 'sci.space')"
            ]
          },
          "metadata": {
            "tags": []
          },
          "execution_count": 8
        }
      ]
    },
    {
      "cell_type": "code",
      "metadata": {
        "id": "boTsdH0cUJj9",
        "colab_type": "code",
        "colab": {}
      },
      "source": [
        "from sklearn.feature_extraction.text import TfidfVectorizer\n",
        "\n",
        "tfidf_vectorizer = TfidfVectorizer(stop_words='english',ngram_range=(1,3),min_df=5)"
      ],
      "execution_count": 0,
      "outputs": []
    },
    {
      "cell_type": "code",
      "metadata": {
        "id": "vryFiIFyU6c4",
        "colab_type": "code",
        "colab": {}
      },
      "source": [
        "train_term_doc = tfidf_vectorizer.fit_transform(train_dataset.data)\n",
        "test_term_doc = tfidf_vectorizer.transform(test_dataset.data)"
      ],
      "execution_count": 0,
      "outputs": []
    },
    {
      "cell_type": "code",
      "metadata": {
        "id": "l7GL-lZPWMgM",
        "colab_type": "code",
        "colab": {
          "base_uri": "https://localhost:8080/",
          "height": 34
        },
        "outputId": "2c8d6b44-b1ba-4cc9-fa89-3e069c515e1c"
      },
      "source": [
        "train_term_doc.shape"
      ],
      "execution_count": 35,
      "outputs": [
        {
          "output_type": "execute_result",
          "data": {
            "text/plain": [
              "(2242, 7416)"
            ]
          },
          "metadata": {
            "tags": []
          },
          "execution_count": 35
        }
      ]
    },
    {
      "cell_type": "code",
      "metadata": {
        "id": "6QqD4AxTWPgo",
        "colab_type": "code",
        "colab": {
          "base_uri": "https://localhost:8080/",
          "height": 34
        },
        "outputId": "faf2de57-92ac-47ad-eedb-c2036811cacf"
      },
      "source": [
        "len(tfidf_vectorizer.vocabulary_) #size of vocab"
      ],
      "execution_count": 36,
      "outputs": [
        {
          "output_type": "execute_result",
          "data": {
            "text/plain": [
              "7416"
            ]
          },
          "metadata": {
            "tags": []
          },
          "execution_count": 36
        }
      ]
    },
    {
      "cell_type": "code",
      "metadata": {
        "id": "4b9TyJlaWTUK",
        "colab_type": "code",
        "colab": {
          "base_uri": "https://localhost:8080/",
          "height": 51
        },
        "outputId": "4162fd8b-f0c8-4dab-d1e4-dab59b81c95b"
      },
      "source": [
        "train_term_doc[0]"
      ],
      "execution_count": 37,
      "outputs": [
        {
          "output_type": "execute_result",
          "data": {
            "text/plain": [
              "<1x7416 sparse matrix of type '<class 'numpy.float64'>'\n",
              "\twith 41 stored elements in Compressed Sparse Row format>"
            ]
          },
          "metadata": {
            "tags": []
          },
          "execution_count": 37
        }
      ]
    },
    {
      "cell_type": "code",
      "metadata": {
        "id": "wA53YQY9Wp7b",
        "colab_type": "code",
        "colab": {}
      },
      "source": [
        "from sklearn.decomposition import TruncatedSVD\n",
        "\n",
        "svd_model = TruncatedSVD(n_components=5, algorithm='randomized', n_iter=100, random_state=122)"
      ],
      "execution_count": 0,
      "outputs": []
    },
    {
      "cell_type": "code",
      "metadata": {
        "id": "he0NSAaKYBWV",
        "colab_type": "code",
        "colab": {
          "base_uri": "https://localhost:8080/",
          "height": 51
        },
        "outputId": "044b8ab5-d8eb-46f2-c177-2d9cc0c0d6d6"
      },
      "source": [
        "svd_model.fit(train_term_doc)"
      ],
      "execution_count": 39,
      "outputs": [
        {
          "output_type": "execute_result",
          "data": {
            "text/plain": [
              "TruncatedSVD(algorithm='randomized', n_components=5, n_iter=100,\n",
              "             random_state=122, tol=0.0)"
            ]
          },
          "metadata": {
            "tags": []
          },
          "execution_count": 39
        }
      ]
    },
    {
      "cell_type": "code",
      "metadata": {
        "id": "J8skxfsrYLhc",
        "colab_type": "code",
        "colab": {
          "base_uri": "https://localhost:8080/",
          "height": 34
        },
        "outputId": "349f60c3-f31d-41c8-cbc3-856c435db7b7"
      },
      "source": [
        "svd_model.components_.shape"
      ],
      "execution_count": 40,
      "outputs": [
        {
          "output_type": "execute_result",
          "data": {
            "text/plain": [
              "(5, 7416)"
            ]
          },
          "metadata": {
            "tags": []
          },
          "execution_count": 40
        }
      ]
    },
    {
      "cell_type": "code",
      "metadata": {
        "id": "rbKie-a-YP7L",
        "colab_type": "code",
        "colab": {}
      },
      "source": [
        "vocab = tfidf_vectorizer.get_feature_names()"
      ],
      "execution_count": 0,
      "outputs": []
    },
    {
      "cell_type": "code",
      "metadata": {
        "id": "QcBHNzDlYjrJ",
        "colab_type": "code",
        "colab": {
          "base_uri": "https://localhost:8080/",
          "height": 102
        },
        "outputId": "e5af3fd4-245e-464f-9c04-36188d2948a5"
      },
      "source": [
        "for i, comp in enumerate(svd_model.components_):\n",
        "    terms_comp = zip(vocab, comp)\n",
        "    sorted_terms = sorted(terms_comp, key= lambda x:x[1], reverse=True)[:7]\n",
        "    print(\"Topic \"+str(i+1)+\": \",[x[0] for x in sorted_terms])\n",
        "    # for t in sorted_terms:\n",
        "    #     print(t[0])\n"
      ],
      "execution_count": 47,
      "outputs": [
        {
          "output_type": "stream",
          "text": [
            "Topic 1:  ['god', 'people', 'think', 'like', 'just', 'don', 'know']\n",
            "Topic 2:  ['00', 'sale', 'offer', 'shipping', 'drive', 'new', 'space']\n",
            "Topic 3:  ['space', 'nasa', 'launch', 'government', 'shuttle', 'moon', 'orbit']\n",
            "Topic 4:  ['00', 'space', 'god', 'nasa', 'jesus', 'shuttle', 'launch']\n",
            "Topic 5:  ['00', 'people', '20 00', '50', 'government', 'dos', 'don']\n"
          ],
          "name": "stdout"
        }
      ]
    },
    {
      "cell_type": "code",
      "metadata": {
        "id": "2eobUM2QZFwr",
        "colab_type": "code",
        "colab": {}
      },
      "source": [
        ""
      ],
      "execution_count": 0,
      "outputs": []
    }
  ]
}